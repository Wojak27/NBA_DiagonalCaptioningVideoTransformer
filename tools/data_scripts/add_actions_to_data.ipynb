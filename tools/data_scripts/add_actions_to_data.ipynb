{
 "cells": [
  {
   "cell_type": "code",
   "execution_count": 13,
   "metadata": {},
   "outputs": [],
   "source": [
    "import json\n",
    "\n",
    "data = json.load(open(\"/home/karolwojtulewicz/code/NSVA/data/ourds_description_only.json\"))"
   ]
  },
  {
   "cell_type": "code",
   "execution_count": 19,
   "metadata": {},
   "outputs": [
    {
     "ename": "",
     "evalue": "",
     "output_type": "error",
     "traceback": [
      "\u001b[1;31mThe Kernel crashed while executing code in the current cell or a previous cell. \n",
      "\u001b[1;31mPlease review the code in the cell(s) to identify a possible cause of the failure. \n",
      "\u001b[1;31mClick <a href='https://aka.ms/vscodeJupyterKernelCrash'>here</a> for more info. \n",
      "\u001b[1;31mView Jupyter <a href='command:jupyter.viewOutput'>log</a> for further details."
     ]
    }
   ],
   "source": [
    "actions = {}\n",
    "players = {}\n",
    "\n",
    "for d in data[\"sentences\"]:\n",
    "    if d[\"caption\"].startswith(\"<T2>_\"):\n",
    "        action = d[\"caption\"].split(\"_\")[1]\n",
    "        actions[d[\"video_id\"]] = action\n",
    "    if d[\"caption\"].startswith(\"<T1>_\"):\n",
    "        players_ = d[\"caption\"].split(\"_\")[1]\n",
    "        players[d[\"video_id\"]] = players_.replace(\":\",\"\").replace(\";\",\"\").split()\n",
    "\n",
    "new = []\n",
    "for d in data[\"sentences\"]:\n",
    "    if d[\"caption\"].startswith(\"<T3>_\"):\n",
    "        d[\"actions\"] = actions[d[\"video_id\"]]\n",
    "        # get all players from the caption\n",
    "        playerIds = []\n",
    "        for word in d[\"caption\"].replace(\"<T3>_\", \" \").replace(\";\", \" \").split():\n",
    "            if word.startswith(\"PLAYER\"):\n",
    "                playerIds.append(word)\n",
    "        d[\"question\"] = \" \".join(playerIds)\n",
    "        d[\"answer\"] = d[\"caption\"]\n",
    "        new.append(d)\n",
    "    else:\n",
    "        d[\"actions\"] = actions[d[\"video_id\"]]\n",
    "        try:\n",
    "            d[\"question\"] = \" \".join(players[d[\"video_id\"]])\n",
    "        except:\n",
    "            d[\"question\"] = \" \"\n",
    "        d[\"answer\"] = d[\"caption\"]\n",
    "        new.append(d)\n",
    "\n",
    "new = {\"sentences\": new}\n",
    "        \n",
    "        \n",
    "\n",
    "with open('/home/karolwojtulewicz/code/NSVA/data/new_ourds_description_only.json', 'w') as f:\n",
    "    json.dump(new, f, indent=4)"
   ]
  },
  {
   "cell_type": "code",
   "execution_count": null,
   "metadata": {},
   "outputs": [],
   "source": []
  }
 ],
 "metadata": {
  "kernelspec": {
   "display_name": "univl",
   "language": "python",
   "name": "python3"
  },
  "language_info": {
   "codemirror_mode": {
    "name": "ipython",
    "version": 3
   },
   "file_extension": ".py",
   "mimetype": "text/x-python",
   "name": "python",
   "nbconvert_exporter": "python",
   "pygments_lexer": "ipython3",
   "version": "3.9.0"
  }
 },
 "nbformat": 4,
 "nbformat_minor": 2
}
