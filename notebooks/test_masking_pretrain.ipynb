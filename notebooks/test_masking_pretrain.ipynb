{
 "cells": [
  {
   "cell_type": "code",
   "execution_count": 1,
   "metadata": {},
   "outputs": [
    {
     "name": "stderr",
     "output_type": "stream",
     "text": [
      "/home/karolwojtulewicz/miniconda3/envs/univl/lib/python3.9/site-packages/tqdm/auto.py:21: TqdmWarning: IProgress not found. Please update jupyter and ipywidgets. See https://ipywidgets.readthedocs.io/en/stable/user_install.html\n",
      "  from .autonotebook import tqdm as notebook_tqdm\n"
     ]
    }
   ],
   "source": [
    "from main_unsuper_pretrain import dataloader_ourds_train\n",
    "from main_task_caption import Args_Caption\n",
    "from modules.tokenization import BertTokenizer\n",
    "import pickle"
   ]
  },
  {
   "cell_type": "code",
   "execution_count": 2,
   "metadata": {},
   "outputs": [],
   "source": [
    "args = Args_Caption(features_dir=\"data\", do_eval=False, task=\"unsup-pretrain\", output_dir=\"out_pretrain\")\n",
    "args.mask_prob = 0.75\n",
    "args.load_checkpoint = False\n",
    "args.batch_size_val = 32\n",
    "args.bottleneck_dim = 24\n",
    "args.decoder_num_hidden_layers = 1\n",
    "args.visual_num_hidden_layers = 2\n",
    "args.bottleneck_fusion_layers = 1\n",
    "args.cross_num_hidden_layers = 0\n",
    "args.init_model = None\n",
    "args.epochs = 400"
   ]
  },
  {
   "cell_type": "code",
   "execution_count": 3,
   "metadata": {},
   "outputs": [
    {
     "name": "stdout",
     "output_type": "stream",
     "text": [
      "/home/karolwojtulewicz/code/NSVA/modules/bert-base-uncased/vocab.txt\n"
     ]
    }
   ],
   "source": [
    "tokenizer = BertTokenizer.from_pretrained(args.bert_model, do_lower_case=args.do_lower_case)\n",
    "args.video_feature = pickle.load(open(args.features_path, 'rb'))\n",
    "args.video_bbx_feature = pickle.load(open(args.bbx_features_path, 'rb'))\n",
    "dataloader,_,_ = dataloader_ourds_train(args, tokenizer)"
   ]
  },
  {
   "cell_type": "code",
   "execution_count": 4,
   "metadata": {},
   "outputs": [],
   "source": [
    "batch = next(iter(dataloader))\n",
    "\n",
    "pairs_text, pairs_mask, pairs_segment, video, video_mask, \\\n",
    "               pairs_masked_text, pairs_token_labels, masked_video, video_labels_index, \\\n",
    "               pairs_input_caption_ids, pairs_decoder_mask, pairs_output_caption_ids,task_type, bbx, bbx_mask, masked_bbx = batch"
   ]
  },
  {
   "cell_type": "code",
   "execution_count": 5,
   "metadata": {},
   "outputs": [
    {
     "name": "stdout",
     "output_type": "stream",
     "text": [
      "torch.Size([32, 1, 30, 768]) torch.Size([30, 768]) torch.Size([30]) torch.Size([30, 1]) torch.Size([32, 1, 2, 30])\n"
     ]
    }
   ],
   "source": [
    "print(video.shape, video[0][0].shape, masked_video[0,0,:].shape, (masked_video[0, 0,:].unsqueeze(-1).shape), masked_bbx.shape)"
   ]
  },
  {
   "cell_type": "code",
   "execution_count": 6,
   "metadata": {},
   "outputs": [
    {
     "data": {
      "image/png": "[encoded data removed]",
      "text/plain": [
       "<Figure size 640x480 with 8 Axes>"
      ]
     },
     "metadata": {},
     "output_type": "display_data"
    }
   ],
   "source": [
    "import numpy as np\n",
    "import matplotlib.pyplot as plt\n",
    "index = 6\n",
    "def display_image(matrix_list):\n",
    "    \"\"\"\n",
    "    Displays an image represented as an nxm matrix using matplotlib.\n",
    "    \n",
    "    Parameters:\n",
    "    - matrix (list of lists): An nxm matrix representing the image.\n",
    "    \n",
    "    Returns:\n",
    "    - None\n",
    "    \"\"\"\n",
    "    num_images = len(matrix_list)\n",
    "    \n",
    "    # Create a subplot for each image\n",
    "    fig, axes = plt.subplots(1, num_images)\n",
    "    \n",
    "    for i, matrix in enumerate(matrix_list):\n",
    "        matrix = np.array(matrix)\n",
    "        \n",
    "        # Calculate the aspect ratio based on the shape of the matrix\n",
    "        aspect_ratio = matrix.shape[1] / matrix.shape[0]\n",
    "        \n",
    "        if num_images == 1:\n",
    "            ax = axes\n",
    "        else:\n",
    "            ax = axes[i]\n",
    "        ax.imshow(matrix, cmap='gray', aspect=aspect_ratio)\n",
    "        ax.axis('off')\n",
    "    \n",
    "    plt.show()\n",
    "\n",
    "# Example usage:\n",
    "# For demonstration purposes, let's use a simple 5x5 matrix.\n",
    "matrix = [\n",
    "    [255, 255, 255, 255, 255],\n",
    "    [255, 0, 0, 0, 255],\n",
    "    [255, 0, 255, 0, 255],\n",
    "    [255, 0, 0, 0, 255],\n",
    "    [255, 255, 255, 255, 255]\n",
    "]\n",
    "m_video = video*(masked_video.unsqueeze(-1) == 0)\n",
    "n_video = video*(masked_video.unsqueeze(-1))\n",
    "m_bbx = bbx*(masked_bbx.unsqueeze(-1) == 0)\n",
    "n_bbx = bbx*(masked_bbx.unsqueeze(-1))\n",
    "display_image([video[index][0].numpy(), m_video[index,0].numpy(), n_video[index,0].numpy(), masked_video[index][0].unsqueeze(-1).numpy(), bbx[index][0][0].numpy(), bbx[index][0][1].numpy(), n_bbx[index,0][0].numpy(),  m_bbx[index,0][0].numpy()])\n",
    "\n"
   ]
  },
  {
   "cell_type": "code",
   "execution_count": 7,
   "metadata": {},
   "outputs": [
    {
     "data": {
      "image/png": "[encoded data removed]",
      "text/plain": [
       "<Figure size 640x480 with 3 Axes>"
      ]
     },
     "metadata": {},
     "output_type": "display_data"
    }
   ],
   "source": [
    "\n",
    "display_image([video_mask[index,0].unsqueeze(-1).numpy()*255, bbx_mask[index,0].unsqueeze(-1).numpy()*255, masked_video[index,0].unsqueeze(-1).numpy()*255])"
   ]
  },
  {
   "cell_type": "code",
   "execution_count": 8,
   "metadata": {},
   "outputs": [],
   "source": [
    "decoder_mask = ((masked_video == 0) * video_mask).float()"
   ]
  },
  {
   "cell_type": "code",
   "execution_count": 9,
   "metadata": {},
   "outputs": [
    {
     "data": {
      "image/png": "[encoded data removed]",
      "text/plain": [
       "<Figure size 640x480 with 4 Axes>"
      ]
     },
     "metadata": {},
     "output_type": "display_data"
    }
   ],
   "source": [
    "\n",
    "display_image([video_mask[index,0].unsqueeze(-1).numpy()*255, bbx_mask[index,0].unsqueeze(-1).numpy()*255, masked_video[index,0].unsqueeze(-1).numpy()*255, decoder_mask[index,0].unsqueeze(-1).numpy()])"
   ]
  },
  {
   "cell_type": "code",
   "execution_count": null,
   "metadata": {},
   "outputs": [],
   "source": []
  }
 ],
 "metadata": {
  "kernelspec": {
   "display_name": "univl",
   "language": "python",
   "name": "python3"
  },
  "language_info": {
   "codemirror_mode": {
    "name": "ipython",
    "version": 3
   },
   "file_extension": ".py",
   "mimetype": "text/x-python",
   "name": "python",
   "nbconvert_exporter": "python",
   "pygments_lexer": "ipython3",
   "version": "3.9.0"
  },
  "orig_nbformat": 4
 },
 "nbformat": 4,
 "nbformat_minor": 2
}
