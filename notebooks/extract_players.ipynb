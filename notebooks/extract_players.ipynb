{
 "cells": [
  {
   "cell_type": "code",
   "execution_count": 50,
   "metadata": {},
   "outputs": [
    {
     "name": "stdout",
     "output_type": "stream",
     "text": [
      "Found 184 unique player IDs\n",
      "Player IDs extracted and saved to unique_players.json\n"
     ]
    }
   ],
   "source": [
    "import re\n",
    "import json\n",
    "\n",
    "def extract_player_ids(file_path):\n",
    "    # Load data from JSON file\n",
    "    with open(file_path, 'r') as file:\n",
    "        data = json.load(file)\n",
    "    \n",
    "    # Regular expression to match player IDs that start with PLAYER followed by digits\n",
    "    player_id_pattern = r\"\\bPLAYER\\d+\"\n",
    "    \n",
    "    # Initialize a dictionary to store unique player IDs and their index\n",
    "    player_ids_dict = {}\n",
    "    \n",
    "    # Initialize an index counter\n",
    "    index = 0\n",
    "    \n",
    "    # Iterate through each sentence in the data\n",
    "    for sentence in data[\"sentences\"]:\n",
    "        caption = sentence[\"caption\"]\n",
    "        \n",
    "        # Find all matches of player IDs in the caption\n",
    "        found_player_ids = re.findall(player_id_pattern, caption)\n",
    "        \n",
    "        # Iterate through found player IDs\n",
    "        for player_id in found_player_ids:\n",
    "            # Add the player ID to the dictionary if it's not already present\n",
    "            if player_id not in player_ids_dict:\n",
    "                player_ids_dict[player_id] = index\n",
    "                index += 1\n",
    "    print(f\"Found {len(player_ids_dict)} unique player IDs\")\n",
    "    return player_ids_dict\n",
    "\n",
    "def save_player_ids_to_json(player_ids_dict, output_file_path):\n",
    "    # Save the player_ids_dict to a JSON file\n",
    "    with open(output_file_path, 'w') as file:\n",
    "        json.dump(player_ids_dict, file, indent=4)\n",
    "\n",
    "# File paths\n",
    "input_file_path = '/home/karolwojtulewicz/code/NSVA/data/ourds_description_only.json'  # Update this path to your input JSON file\n",
    "output_file_path = 'unique_players.json'\n",
    "\n",
    "# Process the input file to extract player IDs\n",
    "player_ids_dict = extract_player_ids(input_file_path)\n",
    "\n",
    "# Save the resulting dictionary to an output JSON file\n",
    "save_player_ids_to_json(player_ids_dict, output_file_path)\n",
    "\n",
    "print(f\"Player IDs extracted and saved to {output_file_path}\")\n"
   ]
  },
  {
   "cell_type": "code",
   "execution_count": 51,
   "metadata": {},
   "outputs": [
    {
     "name": "stdout",
     "output_type": "stream",
     "text": [
      "['PLAYER203110', 'PLAYER201949', 'PLAYER201568', 'PLAYER1629234', 'PLAYER1628365', 'PLAYER1629021', 'PLAYER1629010', 'PLAYER2594', 'PLAYER101161', 'PLAYER203504', 'PLAYER1628463', 'PLAYER1627820', 'PLAYER202066', 'PLAYER1628382', 'PLAYER201937', 'PLAYER1628395', 'PLAYER1628983', 'PLAYER1626159', 'PLAYER203210', 'PLAYER202710', 'PLAYER203493', 'PLAYER1627936', 'PLAYER200755', 'PLAYER1629034', 'PLAYER204456', 'PLAYER200765', 'PLAYER203477', 'PLAYER202326', 'PLAYER202692', 'PLAYER203112', 'PLAYER2617', 'PLAYER203613', 'PLAYER1629151', 'PLAYER201961', 'PLAYER1627747', 'PLAYER1626257', 'PLAYER1628372', 'PLAYER202691', 'PLAYER1628386', 'PLAYER203585', 'PLAYER1628413', 'PLAYER2200', 'PLAYER201599', 'PLAYER1627788', 'PLAYER1629013', 'PLAYER201939', 'PLAYER1629029', 'PLAYER1629094', 'PLAYER203894', 'PLAYER1629003', 'PLAYER1627884', 'PLAYER1628405', 'PLAYER1627814', 'PLAYER202362', 'PLAYER1626196', 'PLAYER2548', 'PLAYER1628398', 'PLAYER1629033', 'PLAYER201967', 'PLAYER2544', 'PLAYER1629130', 'PLAYER1629001', 'PLAYER201973', 'PLAYER2738', 'PLAYER1626164', 'PLAYER1629312', 'PLAYER1629150', 'PLAYER1629022', 'PLAYER204060', 'PLAYER203084', 'PLAYER203482', 'PLAYER202083', 'PLAYER201942', 'PLAYER1628396', 'PLAYER1628994', 'PLAYER2772', 'PLAYER1628973', 'PLAYER202355', 'PLAYER1626156', 'PLAYER203488', 'PLAYER203159', 'PLAYER1626246', 'PLAYER1629203', 'PLAYER1627854', 'PLAYER1628462', 'PLAYER1629140', 'PLAYER1628513', 'PLAYER1626158', 'PLAYER1628969', 'PLAYER1629028', 'PLAYER203109', 'PLAYER203915', 'PLAYER1628960', 'PLAYER201976', 'PLAYER2199', 'PLAYER203079', 'PLAYER201162', 'PLAYER201158', 'PLAYER1626172', 'PLAYER200746', 'PLAYER202334', 'PLAYER202340', 'PLAYER202347', 'PLAYER202702', 'PLAYER203933', 'PLAYER202327', 'PLAYER203967', 'PLAYER203516', 'PLAYER1628980', 'PLAYER1628389', 'PLAYER1627745', 'PLAYER1626210', 'PLAYER1629015', 'PLAYER2733', 'PLAYER203526', 'PLAYER1629058', 'PLAYER203954', 'PLAYER203939', 'PLAYER1627751', 'PLAYER1629067', 'PLAYER201142', 'PLAYER203584', 'PLAYER200752', 'PLAYER1629066', 'PLAYER101162', 'PLAYER1626149', 'PLAYER1627742', 'PLAYER200826', 'PLAYER1626188', 'PLAYER1717', 'PLAYER202699', 'PLAYER202324', 'PLAYER1628401', 'PLAYER201163', 'PLAYER2037', 'PLAYER1628467', 'PLAYER203957', 'PLAYER200757', 'PLAYER1627743', 'PLAYER201960', 'PLAYER2734', 'PLAYER1628367', 'PLAYER201563', 'PLAYER1628366', 'PLAYER1629133', 'PLAYER203961', 'PLAYER204020', 'PLAYER1629059', 'PLAYER1627732', 'PLAYER101150', 'PLAYER1628393', 'PLAYER1626178', 'PLAYER1628378', 'PLAYER1627733', 'PLAYER1628035', 'PLAYER201609', 'PLAYER203118', 'PLAYER201988', 'PLAYER1626203', 'PLAYER1628961', 'PLAYER201584', 'PLAYER1628404', 'PLAYER203496', 'PLAYER1627827', 'PLAYER1626220', 'PLAYER1629004', 'PLAYER1626162', 'PLAYER201583', 'PLAYER1627777', 'PLAYER203501', 'PLAYER1627826', 'PLAYER203459', 'PLAYER201147', 'PLAYER101106', 'PLAYER1629002', 'PLAYER203484', 'PLAYER203497', 'PLAYER202690', 'PLAYER203925', 'PLAYER1628414', 'PLAYER201580', 'PLAYER202722']\n"
     ]
    }
   ],
   "source": [
    "import pickle\n",
    "\n",
    "with open('data/play_lineups.pickle', 'rb') as file:\n",
    "    data = pickle.load(file)\n",
    "\n",
    "unique_players = []\n",
    "\n",
    "for video_id, details in data.items():\n",
    "    for player in list(details['home_lineup']):\n",
    "        unique_players.append(player)\n",
    "    \n",
    "    for player in list(details['away_lineup']):\n",
    "        unique_players.append(player)\n",
    "    # Assuming players_in_play can contain multiple player IDs separated by spaces\n",
    "\n",
    "# remove duplicates\n",
    "unique_players = list(set(unique_players))\n",
    "\n",
    "print(unique_players)\n",
    "\n",
    "# save the unique players to a pickle file as a dictionary, where key is the player ID and value is the index\n",
    "unique_players_dict = {player_id: index for index, player_id in enumerate(unique_players)}\n",
    "with open('unique_lineup_players.pickle', 'wb') as file:\n",
    "    pickle.dump(unique_players_dict, file)\n"
   ]
  },
  {
   "cell_type": "code",
   "execution_count": 54,
   "metadata": {},
   "outputs": [
    {
     "name": "stdout",
     "output_type": "stream",
     "text": [
      "Player ID PLAYER203613 is not in the unique players list\n",
      "Player ID PLAYER1628999 is not in the unique lineup players list\n",
      "Player ID PLAYER202700 is not in the unique lineup players list\n",
      "Player ID PLAYER202328 is not in the unique lineup players list\n",
      "Done\n"
     ]
    }
   ],
   "source": [
    "# find players that do not have a corresponding player ID in the unique_players_dict\n",
    "with open('unique_players.json', 'r') as file:\n",
    "    unique_players = json.load(file)\n",
    "\n",
    "with open('unique_lineup_players.pickle', 'rb') as file:\n",
    "    unique_lineup_players = pickle.load(file)\n",
    "\n",
    "for player_id in unique_lineup_players:\n",
    "    if player_id not in unique_players:\n",
    "        print(f\"Player ID {player_id} is not in the unique players list\")\n",
    "\n",
    "for player_id in unique_players:\n",
    "    if player_id not in unique_lineup_players:\n",
    "        print(f\"Player ID {player_id} is not in the unique lineup players list\")\n",
    "    \n",
    "print(\"Done\")"
   ]
  },
  {
   "cell_type": "code",
   "execution_count": 59,
   "metadata": {},
   "outputs": [
    {
     "name": "stdout",
     "output_type": "stream",
     "text": [
      "Number of unique players: 185\n"
     ]
    }
   ],
   "source": [
    "# merge the two dictionaries\n",
    "with open('unique_players.json', 'r') as file:\n",
    "    unique_players = json.load(file)\n",
    "tmp = list(unique_players.keys()) + list(unique_lineup_players.keys())\n",
    "tmp = list(set(tmp))\n",
    "unique_players = tmp\n",
    "\n",
    "\n",
    "# with open('unique_lineup_players.pickle', 'rb') as file:\n",
    "#     unique_players_dict = pickle.load(file)\n",
    "# # make a list and a dictionary of all unique players\n",
    "# unique_players = list(unique_players_dict.keys())\n",
    "unique_players_dict = {player_id: index for index, player_id in enumerate(unique_players)}\n",
    "\n",
    "with open('all_unique_players.pickle', 'wb') as file:\n",
    "    pickle.dump(unique_players_dict, file)\n",
    "\n",
    "print(\"Number of unique players:\", len(unique_players))"
   ]
  },
  {
   "cell_type": "code",
   "execution_count": null,
   "metadata": {},
   "outputs": [],
   "source": []
  },
  {
   "cell_type": "code",
   "execution_count": null,
   "metadata": {},
   "outputs": [],
   "source": []
  }
 ],
 "metadata": {
  "kernelspec": {
   "display_name": "univl",
   "language": "python",
   "name": "python3"
  },
  "language_info": {
   "codemirror_mode": {
    "name": "ipython",
    "version": 3
   },
   "file_extension": ".py",
   "mimetype": "text/x-python",
   "name": "python",
   "nbconvert_exporter": "python",
   "pygments_lexer": "ipython3",
   "version": "3.9.0"
  }
 },
 "nbformat": 4,
 "nbformat_minor": 2
}
