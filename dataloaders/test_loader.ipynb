{
 "cells": [
  {
   "cell_type": "code",
   "execution_count": 2,
   "metadata": {},
   "outputs": [
    {
     "name": "stderr",
     "output_type": "stream",
     "text": [
      "/home/karolwojtulewicz/miniconda3/envs/univl/lib/python3.9/site-packages/tqdm/auto.py:21: TqdmWarning: IProgress not found. Please update jupyter and ipywidgets. See https://ipywidgets.readthedocs.io/en/stable/user_install.html\n",
      "  from .autonotebook import tqdm as notebook_tqdm\n"
     ]
    },
    {
     "name": "stdout",
     "output_type": "stream",
     "text": [
      "/home/karolwojtulewicz/code/NSVA/modules/bert-base-uncased/vocab.txt\n"
     ]
    }
   ],
   "source": [
    "# import python dir as module\n",
    "\n",
    "import pickle\n",
    "import sys\n",
    "sys.path.append(\"/home/karolwojtulewicz/code/NSVA\")\n",
    "\n",
    "from dataloader_ourds_caption import OURDS_Caption_DataLoader\n",
    "from modules.tokenization import BertTokenizer\n",
    "tokenizer = BertTokenizer.from_pretrained(\"bert-base-uncased\", do_lower_case=True)\n",
    "\n",
    "data_path = \"/home/karolwojtulewicz/code/NSVA/data\"\n",
    "\n",
    "# ourds_dataset = OURDS_Caption_DataLoader(\n",
    "#         csv_path=\"{}/ourds_train.44k.csv\".format(data_path),\n",
    "#         json_path=\"{}/ourds_description_only.json\".format(data_path),\n",
    "#         video_feature=pickle.load(open(\"{}/ourds_videos_timesformer_features.pickle\".format(data_path), 'rb')),\n",
    "#         bbx_feature=pickle.load(open(\"{}/cls2_ball_basket_sum_concat_original_courtline_fea_1.pickle\".format(data_path), 'rb')),\n",
    "#         max_words=30,\n",
    "#         feature_framerate=1,\n",
    "#         tokenizer=tokenizer,\n",
    "#         max_frames=30,\n",
    "#         split_type=\"train\",\n",
    "#         split_task = [0,0,1,0]\n",
    "#     )"
   ]
  },
  {
   "cell_type": "code",
   "execution_count": 3,
   "metadata": {},
   "outputs": [],
   "source": [
    "# print(\"ourds_dataset[0]: \", len(ourds_dataset[0]))"
   ]
  },
  {
   "cell_type": "code",
   "execution_count": 4,
   "metadata": {},
   "outputs": [],
   "source": [
    "from dataloaders.dataloader_msrvtt_caption_audio import MSRVTT_Caption_DataLoader_Audio\n",
    "\n",
    "\n",
    "\n",
    "msrvtt_dataset = MSRVTT_Caption_DataLoader_Audio(\n",
    "        annotations_path=\"/4TBssd/collaborative-experts/data/msrvtt/data/MSRVTT/high-quality/structured-symlinks/train_list_full.txt\",\n",
    "        v_features_path=\"/4TBssd/collaborative-experts/data/msrvtt/msrvtt_videos_features.pickle\",\n",
    "        a_features_path=\"/4TBssd/collaborative-experts/data/msrvtt/data/MSRVTT/high-quality/structured-symlinks/aggregated_audio_feats/Audio_MSRVTT_new.pickle\",\n",
    "        raw_captions_path=\"/4TBssd/collaborative-experts/data/msrvtt/data/MSRVTT/high-quality/structured-symlinks/raw-captions.pkl\",\n",
    "        max_words=30,\n",
    "        feature_framerate=1,\n",
    "        tokenizer=tokenizer,\n",
    "        max_frames=100,\n",
    "        split_type=\"train\",\n",
    "    )"
   ]
  },
  {
   "cell_type": "code",
   "execution_count": 7,
   "metadata": {},
   "outputs": [
    {
     "name": "stdout",
     "output_type": "stream",
     "text": [
      "ourds_dataset[0]:  14\n"
     ]
    },
    {
     "ename": "",
     "evalue": "",
     "output_type": "error",
     "traceback": [
      "\u001b[1;31mThe Kernel crashed while executing code in the the current cell or a previous cell. Please review the code in the cell(s) to identify a possible cause of the failure. Click <a href='https://aka.ms/vscodeJupyterKernelCrash'>here</a> for more info. View Jupyter <a href='command:jupyter.viewOutput'>log</a> for further details."
     ]
    }
   ],
   "source": [
    "print(\"ourds_dataset[0]: \", len(msrvtt_dataset[1000]))"
   ]
  },
  {
   "cell_type": "code",
   "execution_count": null,
   "metadata": {},
   "outputs": [],
   "source": []
  }
 ],
 "metadata": {
  "kernelspec": {
   "display_name": "univl",
   "language": "python",
   "name": "python3"
  },
  "language_info": {
   "codemirror_mode": {
    "name": "ipython",
    "version": 3
   },
   "file_extension": ".py",
   "mimetype": "text/x-python",
   "name": "python",
   "nbconvert_exporter": "python",
   "pygments_lexer": "ipython3",
   "version": "3.9.0"
  }
 },
 "nbformat": 4,
 "nbformat_minor": 2
}
